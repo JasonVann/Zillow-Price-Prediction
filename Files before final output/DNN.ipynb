{
 "cells": [
  {
   "cell_type": "code",
   "execution_count": 164,
   "metadata": {},
   "outputs": [],
   "source": [
    "# !pip install brewer2mpl\n",
    "# import necessary package\n",
    "import numpy as np\n",
    "import pandas as pd\n",
    "import matplotlib as mpl\n",
    "import matplotlib.pyplot as plt\n",
    "import seaborn as sns\n",
    "import warnings\n",
    "warnings.filterwarnings(action='once')\n",
    "\n",
    "from IPython import get_ipython\n",
    "from sklearn.preprocessing import LabelEncoder\n",
    "from sklearn.preprocessing import Imputer\n",
    "import os"
   ]
  },
  {
   "cell_type": "code",
   "execution_count": 166,
   "metadata": {
    "scrolled": true
   },
   "outputs": [],
   "source": [
    "#!pip install --upgrade pip"
   ]
  },
  {
   "cell_type": "code",
   "execution_count": 167,
   "metadata": {},
   "outputs": [],
   "source": [
    "#!pip list"
   ]
  },
  {
   "cell_type": "code",
   "execution_count": 168,
   "metadata": {
    "scrolled": true
   },
   "outputs": [],
   "source": [
    "#!pip install --upgrade tensorflow"
   ]
  },
  {
   "cell_type": "code",
   "execution_count": 169,
   "metadata": {},
   "outputs": [],
   "source": [
    "import tensorflow as tf"
   ]
  },
  {
   "cell_type": "code",
   "execution_count": 170,
   "metadata": {},
   "outputs": [
    {
     "name": "stdout",
     "output_type": "stream",
     "text": [
      "3.0.3\n",
      "0.9.0\n"
     ]
    }
   ],
   "source": [
    "pd.set_option('display.max_row',100)\n",
    "pd.set_option('display.max_column',100)\n",
    "pd.set_option('display.float_format', lambda x: '%.5f' % x)\n",
    "\n",
    "\n",
    "large = 22; med = 16; small = 12\n",
    "params = {'axes.titlesize': large,\n",
    "          'legend.fontsize': med,\n",
    "          'figure.figsize': (16, 10),\n",
    "          'axes.labelsize': med,\n",
    "          'axes.titlesize': med,\n",
    "          'xtick.labelsize': med,\n",
    "          'ytick.labelsize': med,\n",
    "          'figure.titlesize': large}\n",
    "\n",
    "\n",
    "plt.rcParams.update(params)\n",
    "plt.style.use('seaborn-whitegrid')\n",
    "sns.set_style(\"white\")\n",
    "#get_ipython().run_line_magic('matplotlib', 'inline')\n",
    "#exec(%matplotlib inline)\n",
    "ipy = get_ipython()\n",
    "if ipy is not None:\n",
    "    ipy.run_line_magic('matplotlib', 'inline')\n",
    "# Version\n",
    "print(mpl.__version__)  #> 3.0.0\n",
    "print(sns.__version__)  #> 0.9.0\n",
    "\n",
    "from sklearn.linear_model import LinearRegression\n",
    "from sklearn.model_selection import train_test_split"
   ]
  },
  {
   "cell_type": "code",
   "execution_count": 171,
   "metadata": {},
   "outputs": [
    {
     "name": "stderr",
     "output_type": "stream",
     "text": [
      "<>:1: DeprecationWarning: invalid escape sequence \\D\n"
     ]
    }
   ],
   "source": [
    "data  =  pd.read_csv('C:\\\\Users\\\\wendy\\Desktop\\data_final.csv') # loading data"
   ]
  },
  {
   "cell_type": "code",
   "execution_count": 172,
   "metadata": {},
   "outputs": [],
   "source": [
    "data1 = data.iloc[:,1:]\n",
    "#data2 = data1.drop(['latitude', 'longitude','assessmentyear'], axis = 1)\n",
    "\n",
    "\n",
    "X_1  =  data1.iloc[:,:-1]\n",
    "y_1  = data1.iloc[:,-1]\n"
   ]
  },
  {
   "cell_type": "code",
   "execution_count": 173,
   "metadata": {},
   "outputs": [
    {
     "data": {
      "text/plain": [
       "(329058,)"
      ]
     },
     "execution_count": 173,
     "metadata": {},
     "output_type": "execute_result"
    }
   ],
   "source": [
    "y_1.shape"
   ]
  },
  {
   "cell_type": "code",
   "execution_count": 174,
   "metadata": {},
   "outputs": [
    {
     "data": {
      "text/html": [
       "<div>\n",
       "<style scoped>\n",
       "    .dataframe tbody tr th:only-of-type {\n",
       "        vertical-align: middle;\n",
       "    }\n",
       "\n",
       "    .dataframe tbody tr th {\n",
       "        vertical-align: top;\n",
       "    }\n",
       "\n",
       "    .dataframe thead th {\n",
       "        text-align: right;\n",
       "    }\n",
       "</style>\n",
       "<table border=\"1\" class=\"dataframe\">\n",
       "  <thead>\n",
       "    <tr style=\"text-align: right;\">\n",
       "      <th></th>\n",
       "      <th>bathroomcnt</th>\n",
       "      <th>bedroomcnt</th>\n",
       "      <th>calculatedfinishedsquarefeet</th>\n",
       "      <th>latitude</th>\n",
       "      <th>longitude</th>\n",
       "      <th>propertylandusetypeid</th>\n",
       "      <th>rawcensustractandblock</th>\n",
       "      <th>regionidcity</th>\n",
       "      <th>regionidzip</th>\n",
       "      <th>yearbuilt</th>\n",
       "      <th>structuretaxvaluedollarcnt</th>\n",
       "      <th>assessmentyear</th>\n",
       "      <th>censustractandblock</th>\n",
       "    </tr>\n",
       "  </thead>\n",
       "  <tbody>\n",
       "    <tr>\n",
       "      <th>count</th>\n",
       "      <td>329058.00000</td>\n",
       "      <td>329058.00000</td>\n",
       "      <td>329058.00000</td>\n",
       "      <td>329058.00000</td>\n",
       "      <td>329058.00000</td>\n",
       "      <td>329058.00000</td>\n",
       "      <td>329058.00000</td>\n",
       "      <td>329058.00000</td>\n",
       "      <td>329058.00000</td>\n",
       "      <td>329058.00000</td>\n",
       "      <td>329058.00000</td>\n",
       "      <td>329058.00000</td>\n",
       "      <td>329058.00000</td>\n",
       "    </tr>\n",
       "    <tr>\n",
       "      <th>mean</th>\n",
       "      <td>0.00117</td>\n",
       "      <td>0.00066</td>\n",
       "      <td>-0.00403</td>\n",
       "      <td>-0.00037</td>\n",
       "      <td>0.00177</td>\n",
       "      <td>0.00898</td>\n",
       "      <td>0.00318</td>\n",
       "      <td>0.00086</td>\n",
       "      <td>-0.00022</td>\n",
       "      <td>0.01078</td>\n",
       "      <td>-0.00330</td>\n",
       "      <td>-0.00000</td>\n",
       "      <td>0.00065</td>\n",
       "    </tr>\n",
       "    <tr>\n",
       "      <th>std</th>\n",
       "      <td>0.98928</td>\n",
       "      <td>0.99115</td>\n",
       "      <td>0.98049</td>\n",
       "      <td>1.00054</td>\n",
       "      <td>1.00167</td>\n",
       "      <td>0.94817</td>\n",
       "      <td>1.00182</td>\n",
       "      <td>0.99010</td>\n",
       "      <td>0.96882</td>\n",
       "      <td>0.99213</td>\n",
       "      <td>0.96546</td>\n",
       "      <td>0.99976</td>\n",
       "      <td>1.00711</td>\n",
       "    </tr>\n",
       "    <tr>\n",
       "      <th>min</th>\n",
       "      <td>-2.28994</td>\n",
       "      <td>-2.65475</td>\n",
       "      <td>-1.88856</td>\n",
       "      <td>-2.51765</td>\n",
       "      <td>-3.53904</td>\n",
       "      <td>-44.69851</td>\n",
       "      <td>-0.58671</td>\n",
       "      <td>-0.64438</td>\n",
       "      <td>-0.16233</td>\n",
       "      <td>-6.07914</td>\n",
       "      <td>-0.83660</td>\n",
       "      <td>-1.00020</td>\n",
       "      <td>-0.11658</td>\n",
       "    </tr>\n",
       "    <tr>\n",
       "      <th>25%</th>\n",
       "      <td>-0.29052</td>\n",
       "      <td>-0.91055</td>\n",
       "      <td>-0.62930</td>\n",
       "      <td>-0.73309</td>\n",
       "      <td>-0.59055</td>\n",
       "      <td>-0.16015</td>\n",
       "      <td>-0.57216</td>\n",
       "      <td>-0.45351</td>\n",
       "      <td>-0.10459</td>\n",
       "      <td>-0.65572</td>\n",
       "      <td>-0.45753</td>\n",
       "      <td>-1.00020</td>\n",
       "      <td>-0.11374</td>\n",
       "    </tr>\n",
       "    <tr>\n",
       "      <th>50%</th>\n",
       "      <td>-0.29052</td>\n",
       "      <td>-0.03845</td>\n",
       "      <td>-0.24780</td>\n",
       "      <td>0.05444</td>\n",
       "      <td>0.07173</td>\n",
       "      <td>-0.16015</td>\n",
       "      <td>-0.56146</td>\n",
       "      <td>-0.18134</td>\n",
       "      <td>-0.05141</td>\n",
       "      <td>0.05899</td>\n",
       "      <td>-0.22525</td>\n",
       "      <td>0.00000</td>\n",
       "      <td>-0.11165</td>\n",
       "    </tr>\n",
       "    <tr>\n",
       "      <th>75%</th>\n",
       "      <td>0.70919</td>\n",
       "      <td>0.83364</td>\n",
       "      <td>0.33667</td>\n",
       "      <td>0.63068</td>\n",
       "      <td>0.77198</td>\n",
       "      <td>0.80807</td>\n",
       "      <td>0.48121</td>\n",
       "      <td>0.24999</td>\n",
       "      <td>0.10758</td>\n",
       "      <td>0.77370</td>\n",
       "      <td>0.13287</td>\n",
       "      <td>0.99978</td>\n",
       "      <td>0.09155</td>\n",
       "    </tr>\n",
       "    <tr>\n",
       "      <th>max</th>\n",
       "      <td>17.70426</td>\n",
       "      <td>14.78722</td>\n",
       "      <td>22.27544</td>\n",
       "      <td>3.06283</td>\n",
       "      <td>1.79545</td>\n",
       "      <td>2.55088</td>\n",
       "      <td>3.01052</td>\n",
       "      <td>7.73253</td>\n",
       "      <td>81.40026</td>\n",
       "      <td>1.99292</td>\n",
       "      <td>69.20020</td>\n",
       "      <td>0.99978</td>\n",
       "      <td>400.80746</td>\n",
       "    </tr>\n",
       "  </tbody>\n",
       "</table>\n",
       "</div>"
      ],
      "text/plain": [
       "       bathroomcnt   bedroomcnt  calculatedfinishedsquarefeet     latitude  \\\n",
       "count 329058.00000 329058.00000                  329058.00000 329058.00000   \n",
       "mean       0.00117      0.00066                      -0.00403     -0.00037   \n",
       "std        0.98928      0.99115                       0.98049      1.00054   \n",
       "min       -2.28994     -2.65475                      -1.88856     -2.51765   \n",
       "25%       -0.29052     -0.91055                      -0.62930     -0.73309   \n",
       "50%       -0.29052     -0.03845                      -0.24780      0.05444   \n",
       "75%        0.70919      0.83364                       0.33667      0.63068   \n",
       "max       17.70426     14.78722                      22.27544      3.06283   \n",
       "\n",
       "         longitude  propertylandusetypeid  rawcensustractandblock  \\\n",
       "count 329058.00000           329058.00000            329058.00000   \n",
       "mean       0.00177                0.00898                 0.00318   \n",
       "std        1.00167                0.94817                 1.00182   \n",
       "min       -3.53904              -44.69851                -0.58671   \n",
       "25%       -0.59055               -0.16015                -0.57216   \n",
       "50%        0.07173               -0.16015                -0.56146   \n",
       "75%        0.77198                0.80807                 0.48121   \n",
       "max        1.79545                2.55088                 3.01052   \n",
       "\n",
       "       regionidcity  regionidzip    yearbuilt  structuretaxvaluedollarcnt  \\\n",
       "count  329058.00000 329058.00000 329058.00000                329058.00000   \n",
       "mean        0.00086     -0.00022      0.01078                    -0.00330   \n",
       "std         0.99010      0.96882      0.99213                     0.96546   \n",
       "min        -0.64438     -0.16233     -6.07914                    -0.83660   \n",
       "25%        -0.45351     -0.10459     -0.65572                    -0.45753   \n",
       "50%        -0.18134     -0.05141      0.05899                    -0.22525   \n",
       "75%         0.24999      0.10758      0.77370                     0.13287   \n",
       "max         7.73253     81.40026      1.99292                    69.20020   \n",
       "\n",
       "       assessmentyear  censustractandblock  \n",
       "count    329058.00000         329058.00000  \n",
       "mean         -0.00000              0.00065  \n",
       "std           0.99976              1.00711  \n",
       "min          -1.00020             -0.11658  \n",
       "25%          -1.00020             -0.11374  \n",
       "50%           0.00000             -0.11165  \n",
       "75%           0.99978              0.09155  \n",
       "max           0.99978            400.80746  "
      ]
     },
     "execution_count": 174,
     "metadata": {},
     "output_type": "execute_result"
    }
   ],
   "source": [
    "X_1.describe()"
   ]
  },
  {
   "cell_type": "code",
   "execution_count": 175,
   "metadata": {},
   "outputs": [],
   "source": [
    "train_X_1, test_X_1, train_y_1, test_y_1 = train_test_split(X_1, y_1, test_size=0.33, random_state=42)\n",
    "train_set, test_set = train_test_split(data1, test_size=0.33, random_state=42)"
   ]
  },
  {
   "cell_type": "code",
   "execution_count": 176,
   "metadata": {},
   "outputs": [
    {
     "data": {
      "text/plain": [
       "(220468, 13)"
      ]
     },
     "execution_count": 176,
     "metadata": {},
     "output_type": "execute_result"
    }
   ],
   "source": [
    "train_X_1.shape"
   ]
  },
  {
   "cell_type": "code",
   "execution_count": 177,
   "metadata": {},
   "outputs": [
    {
     "data": {
      "text/html": [
       "<div>\n",
       "<style scoped>\n",
       "    .dataframe tbody tr th:only-of-type {\n",
       "        vertical-align: middle;\n",
       "    }\n",
       "\n",
       "    .dataframe tbody tr th {\n",
       "        vertical-align: top;\n",
       "    }\n",
       "\n",
       "    .dataframe thead th {\n",
       "        text-align: right;\n",
       "    }\n",
       "</style>\n",
       "<table border=\"1\" class=\"dataframe\">\n",
       "  <thead>\n",
       "    <tr style=\"text-align: right;\">\n",
       "      <th></th>\n",
       "      <th>bathroomcnt</th>\n",
       "      <th>bedroomcnt</th>\n",
       "      <th>calculatedfinishedsquarefeet</th>\n",
       "      <th>latitude</th>\n",
       "      <th>longitude</th>\n",
       "      <th>propertylandusetypeid</th>\n",
       "      <th>rawcensustractandblock</th>\n",
       "      <th>regionidcity</th>\n",
       "      <th>regionidzip</th>\n",
       "      <th>yearbuilt</th>\n",
       "      <th>structuretaxvaluedollarcnt</th>\n",
       "      <th>assessmentyear</th>\n",
       "      <th>censustractandblock</th>\n",
       "      <th>logerror</th>\n",
       "    </tr>\n",
       "  </thead>\n",
       "  <tbody>\n",
       "    <tr>\n",
       "      <th>255912</th>\n",
       "      <td>1.20905</td>\n",
       "      <td>0.83364</td>\n",
       "      <td>1.58424</td>\n",
       "      <td>-1.15887</td>\n",
       "      <td>1.09754</td>\n",
       "      <td>-0.16015</td>\n",
       "      <td>0.48282</td>\n",
       "      <td>-0.13290</td>\n",
       "      <td>0.11591</td>\n",
       "      <td>1.53046</td>\n",
       "      <td>1.66160</td>\n",
       "      <td>-1.00020</td>\n",
       "      <td>0.09187</td>\n",
       "      <td>0.04764</td>\n",
       "    </tr>\n",
       "    <tr>\n",
       "      <th>101979</th>\n",
       "      <td>0.70919</td>\n",
       "      <td>-0.03845</td>\n",
       "      <td>-0.27543</td>\n",
       "      <td>0.44824</td>\n",
       "      <td>0.36693</td>\n",
       "      <td>-0.16015</td>\n",
       "      <td>-0.56827</td>\n",
       "      <td>0.00235</td>\n",
       "      <td>-0.01945</td>\n",
       "      <td>-0.19326</td>\n",
       "      <td>-0.24341</td>\n",
       "      <td>0.99978</td>\n",
       "      <td>-0.11298</td>\n",
       "      <td>0.05173</td>\n",
       "    </tr>\n",
       "    <tr>\n",
       "      <th>292660</th>\n",
       "      <td>-0.29052</td>\n",
       "      <td>-0.91055</td>\n",
       "      <td>-0.98423</td>\n",
       "      <td>2.07244</td>\n",
       "      <td>0.32250</td>\n",
       "      <td>0.80807</td>\n",
       "      <td>-0.54731</td>\n",
       "      <td>0.13853</td>\n",
       "      <td>0.19917</td>\n",
       "      <td>0.81575</td>\n",
       "      <td>-0.66240</td>\n",
       "      <td>-1.00020</td>\n",
       "      <td>-0.10890</td>\n",
       "      <td>-0.50274</td>\n",
       "    </tr>\n",
       "    <tr>\n",
       "      <th>76399</th>\n",
       "      <td>-0.79037</td>\n",
       "      <td>0.83364</td>\n",
       "      <td>-0.72175</td>\n",
       "      <td>-1.23472</td>\n",
       "      <td>0.84417</td>\n",
       "      <td>-0.16015</td>\n",
       "      <td>0.48226</td>\n",
       "      <td>0.09175</td>\n",
       "      <td>0.09980</td>\n",
       "      <td>-0.52960</td>\n",
       "      <td>-0.58003</td>\n",
       "      <td>0.99978</td>\n",
       "      <td>0.09176</td>\n",
       "      <td>0.35843</td>\n",
       "    </tr>\n",
       "    <tr>\n",
       "      <th>151681</th>\n",
       "      <td>0.70919</td>\n",
       "      <td>-0.03845</td>\n",
       "      <td>-0.34663</td>\n",
       "      <td>-1.19394</td>\n",
       "      <td>0.63876</td>\n",
       "      <td>-0.16015</td>\n",
       "      <td>0.48397</td>\n",
       "      <td>-0.54010</td>\n",
       "      <td>0.11322</td>\n",
       "      <td>-0.19326</td>\n",
       "      <td>-0.25801</td>\n",
       "      <td>0.99978</td>\n",
       "      <td>0.09209</td>\n",
       "      <td>0.35239</td>\n",
       "    </tr>\n",
       "  </tbody>\n",
       "</table>\n",
       "</div>"
      ],
      "text/plain": [
       "        bathroomcnt  bedroomcnt  calculatedfinishedsquarefeet  latitude  \\\n",
       "255912      1.20905     0.83364                       1.58424  -1.15887   \n",
       "101979      0.70919    -0.03845                      -0.27543   0.44824   \n",
       "292660     -0.29052    -0.91055                      -0.98423   2.07244   \n",
       "76399      -0.79037     0.83364                      -0.72175  -1.23472   \n",
       "151681      0.70919    -0.03845                      -0.34663  -1.19394   \n",
       "\n",
       "        longitude  propertylandusetypeid  rawcensustractandblock  \\\n",
       "255912    1.09754               -0.16015                 0.48282   \n",
       "101979    0.36693               -0.16015                -0.56827   \n",
       "292660    0.32250                0.80807                -0.54731   \n",
       "76399     0.84417               -0.16015                 0.48226   \n",
       "151681    0.63876               -0.16015                 0.48397   \n",
       "\n",
       "        regionidcity  regionidzip  yearbuilt  structuretaxvaluedollarcnt  \\\n",
       "255912      -0.13290      0.11591    1.53046                     1.66160   \n",
       "101979       0.00235     -0.01945   -0.19326                    -0.24341   \n",
       "292660       0.13853      0.19917    0.81575                    -0.66240   \n",
       "76399        0.09175      0.09980   -0.52960                    -0.58003   \n",
       "151681      -0.54010      0.11322   -0.19326                    -0.25801   \n",
       "\n",
       "        assessmentyear  censustractandblock  logerror  \n",
       "255912        -1.00020              0.09187   0.04764  \n",
       "101979         0.99978             -0.11298   0.05173  \n",
       "292660        -1.00020             -0.10890  -0.50274  \n",
       "76399          0.99978              0.09176   0.35843  \n",
       "151681         0.99978              0.09209   0.35239  "
      ]
     },
     "execution_count": 177,
     "metadata": {},
     "output_type": "execute_result"
    }
   ],
   "source": [
    "train_set.shape\n",
    "train_set.head()"
   ]
  },
  {
   "cell_type": "code",
   "execution_count": 178,
   "metadata": {},
   "outputs": [
    {
     "data": {
      "text/plain": [
       "0.005175216566090991"
      ]
     },
     "execution_count": 178,
     "metadata": {},
     "output_type": "execute_result"
    }
   ],
   "source": [
    "lr = LinearRegression()\n",
    "lr.fit(train_X_1, train_y_1[:,np.newaxis])\n",
    "lr.score(test_X_1, test_y_1)"
   ]
  },
  {
   "cell_type": "code",
   "execution_count": 179,
   "metadata": {},
   "outputs": [
    {
     "data": {
      "text/plain": [
       "[_RealValuedColumn(column_name='bathroomcnt', dimension=1, default_value=None, dtype=tf.float32, normalizer=None),\n",
       " _RealValuedColumn(column_name='bedroomcnt', dimension=1, default_value=None, dtype=tf.float32, normalizer=None),\n",
       " _RealValuedColumn(column_name='calculatedfinishedsquarefeet', dimension=1, default_value=None, dtype=tf.float32, normalizer=None),\n",
       " _RealValuedColumn(column_name='latitude', dimension=1, default_value=None, dtype=tf.float32, normalizer=None),\n",
       " _RealValuedColumn(column_name='longitude', dimension=1, default_value=None, dtype=tf.float32, normalizer=None),\n",
       " _RealValuedColumn(column_name='propertylandusetypeid', dimension=1, default_value=None, dtype=tf.float32, normalizer=None),\n",
       " _RealValuedColumn(column_name='rawcensustractandblock', dimension=1, default_value=None, dtype=tf.float32, normalizer=None),\n",
       " _RealValuedColumn(column_name='regionidcity', dimension=1, default_value=None, dtype=tf.float32, normalizer=None),\n",
       " _RealValuedColumn(column_name='regionidzip', dimension=1, default_value=None, dtype=tf.float32, normalizer=None),\n",
       " _RealValuedColumn(column_name='yearbuilt', dimension=1, default_value=None, dtype=tf.float32, normalizer=None),\n",
       " _RealValuedColumn(column_name='structuretaxvaluedollarcnt', dimension=1, default_value=None, dtype=tf.float32, normalizer=None),\n",
       " _RealValuedColumn(column_name='assessmentyear', dimension=1, default_value=None, dtype=tf.float32, normalizer=None),\n",
       " _RealValuedColumn(column_name='censustractandblock', dimension=1, default_value=None, dtype=tf.float32, normalizer=None)]"
      ]
     },
     "execution_count": 179,
     "metadata": {},
     "output_type": "execute_result"
    }
   ],
   "source": [
    "col_train_bis = list(train_X_1.columns)\n",
    "feature_cols = [tf.contrib.layers.real_valued_column(k) for k in col_train_bis]\n",
    "\n",
    "feature_cols # feature exploration for tensorflow"
   ]
  },
  {
   "cell_type": "code",
   "execution_count": 180,
   "metadata": {},
   "outputs": [],
   "source": [
    "FEATURES = col_train_bis  # feature columns\n",
    "LABEL = \"logerror\"   # target column\n",
    "train_set.reset_index(drop = True, inplace =True)\n",
    "def input_fn(data_set, pred = False):  # define a function that provide provide proper input format for DNN training and prediction\n",
    "    \n",
    "    if pred == False:\n",
    "        \n",
    "        feature_cols = {k: tf.constant(data_set[k].values) for k in FEATURES}\n",
    "        labels = tf.constant(data_set[LABEL].values)\n",
    "        \n",
    "        return feature_cols, labels\n",
    "\n",
    "    if pred == True:\n",
    "        feature_cols = {k: tf.constant(data_set[k].values) for k in FEATURES}\n",
    "        \n",
    "        return feature_cols"
   ]
  },
  {
   "cell_type": "code",
   "execution_count": 181,
   "metadata": {},
   "outputs": [],
   "source": [
    "tf.logging.set_verbosity(tf.logging.ERROR)\n",
    "\n",
    "# A complex Deep learning model, has better accuaracy, but take a long time to train\n",
    "DNN1 = tf.contrib.learn.DNNRegressor(feature_columns=feature_cols, \n",
    "                                          activation_fn = tf.nn.relu, hidden_units=[200, 100, 50, 25, 12],\n",
    "                                         optimizer = tf.train.GradientDescentOptimizer( learning_rate= 0.1 ))\n",
    "\n",
    "# A simple Deep learning model, very quick to train, with ok accuracy\n",
    "DNN = tf.contrib.learn.DNNRegressor(feature_columns=feature_cols, hidden_units=[10, 10] )"
   ]
  },
  {
   "cell_type": "code",
   "execution_count": 182,
   "metadata": {},
   "outputs": [
    {
     "name": "stderr",
     "output_type": "stream",
     "text": [
      "C:\\Users\\wendy\\Anaconda3\\lib\\site-packages\\numpy\\lib\\type_check.py:546: DeprecationWarning: np.asscalar(a) is deprecated since NumPy v1.16, use a.item() instead\n",
      "  'a.item() instead', DeprecationWarning, stacklevel=1)\n"
     ]
    },
    {
     "data": {
      "text/plain": [
       "DNNRegressor(params={'head': <tensorflow.contrib.learn.python.learn.estimators.head._RegressionHead object at 0x000002099BBB9CF8>, 'hidden_units': [10, 10], 'feature_columns': (_RealValuedColumn(column_name='bathroomcnt', dimension=1, default_value=None, dtype=tf.float32, normalizer=None), _RealValuedColumn(column_name='bedroomcnt', dimension=1, default_value=None, dtype=tf.float32, normalizer=None), _RealValuedColumn(column_name='calculatedfinishedsquarefeet', dimension=1, default_value=None, dtype=tf.float32, normalizer=None), _RealValuedColumn(column_name='latitude', dimension=1, default_value=None, dtype=tf.float32, normalizer=None), _RealValuedColumn(column_name='longitude', dimension=1, default_value=None, dtype=tf.float32, normalizer=None), _RealValuedColumn(column_name='propertylandusetypeid', dimension=1, default_value=None, dtype=tf.float32, normalizer=None), _RealValuedColumn(column_name='rawcensustractandblock', dimension=1, default_value=None, dtype=tf.float32, normalizer=None), _RealValuedColumn(column_name='regionidcity', dimension=1, default_value=None, dtype=tf.float32, normalizer=None), _RealValuedColumn(column_name='regionidzip', dimension=1, default_value=None, dtype=tf.float32, normalizer=None), _RealValuedColumn(column_name='yearbuilt', dimension=1, default_value=None, dtype=tf.float32, normalizer=None), _RealValuedColumn(column_name='structuretaxvaluedollarcnt', dimension=1, default_value=None, dtype=tf.float32, normalizer=None), _RealValuedColumn(column_name='assessmentyear', dimension=1, default_value=None, dtype=tf.float32, normalizer=None), _RealValuedColumn(column_name='censustractandblock', dimension=1, default_value=None, dtype=tf.float32, normalizer=None)), 'optimizer': None, 'activation_fn': <function relu at 0x00000209EAF70048>, 'dropout': None, 'gradient_clip_norm': None, 'embedding_lr_multipliers': None, 'input_layer_min_slice_size': None})"
      ]
     },
     "execution_count": 182,
     "metadata": {},
     "output_type": "execute_result"
    }
   ],
   "source": [
    "DNN.fit(input_fn=lambda: input_fn(train_set), steps=2000)\n",
    " "
   ]
  },
  {
   "cell_type": "code",
   "execution_count": 183,
   "metadata": {},
   "outputs": [],
   "source": [
    "ev = DNN.evaluate(input_fn=lambda: input_fn(test_set), steps=1)"
   ]
  },
  {
   "cell_type": "code",
   "execution_count": 184,
   "metadata": {},
   "outputs": [
    {
     "name": "stdout",
     "output_type": "stream",
     "text": [
      "Final Loss on the testing set: 0.261918\n"
     ]
    }
   ],
   "source": [
    "loss_score1 = ev[\"loss\"]\n",
    "print(\"Final Loss on the testing set: {0:f}\".format(loss_score1))"
   ]
  },
  {
   "cell_type": "code",
   "execution_count": 191,
   "metadata": {},
   "outputs": [],
   "source": [
    "y = DNN.predict(input_fn=lambda: input_fn(data1))\n",
    "import itertools\n",
    "predictions = list(itertools.islice(y, data1.shape[0]))"
   ]
  },
  {
   "cell_type": "code",
   "execution_count": 199,
   "metadata": {},
   "outputs": [
    {
     "data": {
      "text/html": [
       "<div>\n",
       "<style scoped>\n",
       "    .dataframe tbody tr th:only-of-type {\n",
       "        vertical-align: middle;\n",
       "    }\n",
       "\n",
       "    .dataframe tbody tr th {\n",
       "        vertical-align: top;\n",
       "    }\n",
       "\n",
       "    .dataframe thead th {\n",
       "        text-align: right;\n",
       "    }\n",
       "</style>\n",
       "<table border=\"1\" class=\"dataframe\">\n",
       "  <thead>\n",
       "    <tr style=\"text-align: right;\">\n",
       "      <th></th>\n",
       "      <th>Unnamed: 0</th>\n",
       "      <th>Unnamed: 0.1</th>\n",
       "      <th>bathroomcnt</th>\n",
       "      <th>bedroomcnt</th>\n",
       "      <th>calculatedfinishedsquarefeet</th>\n",
       "      <th>latitude</th>\n",
       "      <th>longitude</th>\n",
       "      <th>propertylandusetypeid</th>\n",
       "      <th>rawcensustractandblock</th>\n",
       "      <th>regionidcity</th>\n",
       "      <th>regionidzip</th>\n",
       "      <th>yearbuilt</th>\n",
       "      <th>structuretaxvaluedollarcnt</th>\n",
       "      <th>assessmentyear</th>\n",
       "      <th>censustractandblock</th>\n",
       "      <th>logerror</th>\n",
       "      <th>rf_logerror</th>\n",
       "      <th>stacking_logerror</th>\n",
       "      <th>DNN_logerror</th>\n",
       "    </tr>\n",
       "  </thead>\n",
       "  <tbody>\n",
       "    <tr>\n",
       "      <th>0</th>\n",
       "      <td>0</td>\n",
       "      <td>0</td>\n",
       "      <td>2.70861</td>\n",
       "      <td>0.83364</td>\n",
       "      <td>2.10495</td>\n",
       "      <td>1.66962</td>\n",
       "      <td>-2.92425</td>\n",
       "      <td>-0.16015</td>\n",
       "      <td>3.01012</td>\n",
       "      <td>-0.43979</td>\n",
       "      <td>0.13766</td>\n",
       "      <td>0.56349</td>\n",
       "      <td>1.39868</td>\n",
       "      <td>-1.00020</td>\n",
       "      <td>0.58442</td>\n",
       "      <td>-0.16297</td>\n",
       "      <td>0.10250</td>\n",
       "      <td>0.03943</td>\n",
       "      <td>0.08865</td>\n",
       "    </tr>\n",
       "    <tr>\n",
       "      <th>1</th>\n",
       "      <td>1</td>\n",
       "      <td>1</td>\n",
       "      <td>2.70861</td>\n",
       "      <td>0.83364</td>\n",
       "      <td>2.10495</td>\n",
       "      <td>1.66962</td>\n",
       "      <td>-2.92425</td>\n",
       "      <td>-0.16015</td>\n",
       "      <td>3.01012</td>\n",
       "      <td>-0.43979</td>\n",
       "      <td>0.13766</td>\n",
       "      <td>0.56349</td>\n",
       "      <td>1.43277</td>\n",
       "      <td>0.99978</td>\n",
       "      <td>0.58442</td>\n",
       "      <td>-0.16297</td>\n",
       "      <td>0.09659</td>\n",
       "      <td>-0.06456</td>\n",
       "      <td>0.10499</td>\n",
       "    </tr>\n",
       "    <tr>\n",
       "      <th>2</th>\n",
       "      <td>2</td>\n",
       "      <td>2</td>\n",
       "      <td>-0.29052</td>\n",
       "      <td>-0.03845</td>\n",
       "      <td>-0.35619</td>\n",
       "      <td>1.68758</td>\n",
       "      <td>-2.87939</td>\n",
       "      <td>-0.16015</td>\n",
       "      <td>3.01012</td>\n",
       "      <td>-0.43979</td>\n",
       "      <td>0.13766</td>\n",
       "      <td>-0.73981</td>\n",
       "      <td>-0.25404</td>\n",
       "      <td>-1.00020</td>\n",
       "      <td>0.58442</td>\n",
       "      <td>0.36256</td>\n",
       "      <td>-0.14138</td>\n",
       "      <td>-0.14343</td>\n",
       "      <td>-0.03970</td>\n",
       "    </tr>\n",
       "    <tr>\n",
       "      <th>3</th>\n",
       "      <td>3</td>\n",
       "      <td>3</td>\n",
       "      <td>-0.29052</td>\n",
       "      <td>-0.03845</td>\n",
       "      <td>-0.35619</td>\n",
       "      <td>1.68758</td>\n",
       "      <td>-2.87939</td>\n",
       "      <td>-0.16015</td>\n",
       "      <td>3.01012</td>\n",
       "      <td>-0.43979</td>\n",
       "      <td>0.13766</td>\n",
       "      <td>-0.73981</td>\n",
       "      <td>-0.24516</td>\n",
       "      <td>0.99978</td>\n",
       "      <td>0.58442</td>\n",
       "      <td>0.36256</td>\n",
       "      <td>-0.11247</td>\n",
       "      <td>-0.09673</td>\n",
       "      <td>-0.03543</td>\n",
       "    </tr>\n",
       "    <tr>\n",
       "      <th>4</th>\n",
       "      <td>4</td>\n",
       "      <td>4</td>\n",
       "      <td>-0.79037</td>\n",
       "      <td>-0.03845</td>\n",
       "      <td>-0.08627</td>\n",
       "      <td>1.35386</td>\n",
       "      <td>-3.46398</td>\n",
       "      <td>-0.16015</td>\n",
       "      <td>3.01014</td>\n",
       "      <td>0.01739</td>\n",
       "      <td>0.13283</td>\n",
       "      <td>0.43737</td>\n",
       "      <td>0.02462</td>\n",
       "      <td>-1.00020</td>\n",
       "      <td>0.58442</td>\n",
       "      <td>0.34989</td>\n",
       "      <td>0.12104</td>\n",
       "      <td>0.17169</td>\n",
       "      <td>-0.01939</td>\n",
       "    </tr>\n",
       "  </tbody>\n",
       "</table>\n",
       "</div>"
      ],
      "text/plain": [
       "   Unnamed: 0  Unnamed: 0.1  bathroomcnt  bedroomcnt  \\\n",
       "0           0             0      2.70861     0.83364   \n",
       "1           1             1      2.70861     0.83364   \n",
       "2           2             2     -0.29052    -0.03845   \n",
       "3           3             3     -0.29052    -0.03845   \n",
       "4           4             4     -0.79037    -0.03845   \n",
       "\n",
       "   calculatedfinishedsquarefeet  latitude  longitude  propertylandusetypeid  \\\n",
       "0                       2.10495   1.66962   -2.92425               -0.16015   \n",
       "1                       2.10495   1.66962   -2.92425               -0.16015   \n",
       "2                      -0.35619   1.68758   -2.87939               -0.16015   \n",
       "3                      -0.35619   1.68758   -2.87939               -0.16015   \n",
       "4                      -0.08627   1.35386   -3.46398               -0.16015   \n",
       "\n",
       "   rawcensustractandblock  regionidcity  regionidzip  yearbuilt  \\\n",
       "0                 3.01012      -0.43979      0.13766    0.56349   \n",
       "1                 3.01012      -0.43979      0.13766    0.56349   \n",
       "2                 3.01012      -0.43979      0.13766   -0.73981   \n",
       "3                 3.01012      -0.43979      0.13766   -0.73981   \n",
       "4                 3.01014       0.01739      0.13283    0.43737   \n",
       "\n",
       "   structuretaxvaluedollarcnt  assessmentyear  censustractandblock  logerror  \\\n",
       "0                     1.39868        -1.00020              0.58442  -0.16297   \n",
       "1                     1.43277         0.99978              0.58442  -0.16297   \n",
       "2                    -0.25404        -1.00020              0.58442   0.36256   \n",
       "3                    -0.24516         0.99978              0.58442   0.36256   \n",
       "4                     0.02462        -1.00020              0.58442   0.34989   \n",
       "\n",
       "   rf_logerror  stacking_logerror  DNN_logerror  \n",
       "0      0.10250            0.03943       0.08865  \n",
       "1      0.09659           -0.06456       0.10499  \n",
       "2     -0.14138           -0.14343      -0.03970  \n",
       "3     -0.11247           -0.09673      -0.03543  \n",
       "4      0.12104            0.17169      -0.01939  "
      ]
     },
     "execution_count": 199,
     "metadata": {},
     "output_type": "execute_result"
    }
   ],
   "source": [
    "len(predictions)\n",
    "data2  = pd.read_csv(r\"C:\\Users\\wendy\\Desktop\\result_rf_DNN_stacking.csv\" )\n",
    "data2['DNN_logerror'] = predictions\n",
    "data2.head()"
   ]
  },
  {
   "cell_type": "code",
   "execution_count": 201,
   "metadata": {},
   "outputs": [],
   "source": [
    "data2.to_csv(r'C:\\\\Users\\\\wendy\\Desktop\\result_rf%DNN%stacking2.csv')"
   ]
  },
  {
   "cell_type": "code",
   "execution_count": 202,
   "metadata": {},
   "outputs": [
    {
     "data": {
      "text/plain": [
       "0.2588433400534187"
      ]
     },
     "execution_count": 202,
     "metadata": {},
     "output_type": "execute_result"
    }
   ],
   "source": [
    "mean_squared_error(predictions, data2['logerror'])"
   ]
  },
  {
   "cell_type": "code",
   "execution_count": null,
   "metadata": {},
   "outputs": [],
   "source": []
  }
 ],
 "metadata": {
  "kernelspec": {
   "display_name": "Python 3",
   "language": "python",
   "name": "python3"
  },
  "language_info": {
   "codemirror_mode": {
    "name": "ipython",
    "version": 3
   },
   "file_extension": ".py",
   "mimetype": "text/x-python",
   "name": "python",
   "nbconvert_exporter": "python",
   "pygments_lexer": "ipython3",
   "version": "3.7.3"
  }
 },
 "nbformat": 4,
 "nbformat_minor": 2
}
